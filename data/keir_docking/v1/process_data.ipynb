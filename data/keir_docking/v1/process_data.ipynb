{
 "cells": [
  {
   "cell_type": "code",
   "execution_count": null,
   "outputs": [],
   "source": [
    "import numpy as np\n",
    "import pandas as pd\n",
    "import random"
   ],
   "metadata": {
    "collapsed": false,
    "pycharm": {
     "name": "#%%\n"
    }
   }
  },
  {
   "cell_type": "code",
   "execution_count": null,
   "outputs": [],
   "source": [
    "train_data = pd.read_csv('/home/lagnajit/Downloads/train_docking_csv.csv')\n",
    "val_data = pd.read_csv('/home/lagnajit/Downloads/validation_docking_csv.csv')\n",
    "test_data = pd.read_csv('/home/lagnajit/Downloads/test_docking_csv.csv')\n",
    "\n",
    "all_data = pd.DataFrame()\n",
    "all_data = all_data.append(train_data, ignore_index=True)\n",
    "all_data = all_data.append(val_data, ignore_index=True)\n",
    "all_data = all_data.append(test_data, ignore_index=True)\n",
    "del all_data['Unnamed: 0']\n",
    "# all_data = all_data.sort_values('smiles')\n",
    "\n",
    "all_data.to_csv('keir_docking.csv')\n",
    "\n",
    "train_ids = all_data.index.values[0:len(train_data)]\n",
    "val_ids = all_data.index.values[len(train_data):len(train_data)+len(val_data)]\n",
    "test_ids = all_data.index.values[len(train_data)+len(val_data):]\n",
    "np.save('split0.npy', [train_ids, val_ids, test_ids])"
   ],
   "metadata": {
    "collapsed": false,
    "pycharm": {
     "name": "#%%\n"
    }
   }
  }
 ],
 "metadata": {
  "kernelspec": {
   "display_name": "Python 3",
   "language": "python",
   "name": "python3"
  },
  "language_info": {
   "codemirror_mode": {
    "name": "ipython",
    "version": 2
   },
   "file_extension": ".py",
   "mimetype": "text/x-python",
   "name": "python",
   "nbconvert_exporter": "python",
   "pygments_lexer": "ipython2",
   "version": "2.7.6"
  }
 },
 "nbformat": 4,
 "nbformat_minor": 0
}